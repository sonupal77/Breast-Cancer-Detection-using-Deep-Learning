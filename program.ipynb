{
  "nbformat": 4,
  "nbformat_minor": 0,
  "metadata": {
    "colab": {
      "name": "Team 18.ipynb",
      "provenance": [],
      "collapsed_sections": []
    },
    "kernelspec": {
      "name": "python3",
      "display_name": "Python 3"
    },
    "language_info": {
      "name": "python"
    }
  },
  "cells": [
    {
      "cell_type": "code",
      "metadata": {
        "colab": {
          "base_uri": "https://localhost:8080/"
        },
        "id": "Zgh3STJJgyCc",
        "outputId": "de8ac4c7-2653-4056-e727-19cdbc801b95"
      },
      "source": [
        "pip install tensorflow-gpu==2.0.0-rc0"
      ],
      "execution_count": null,
      "outputs": [
        {
          "output_type": "stream",
          "text": [
            "Collecting tensorflow-gpu==2.0.0-rc0\n",
            "\u001b[?25l  Downloading https://files.pythonhosted.org/packages/3b/ac/dc53e7ba3163d8c5e1faa78e875672d66e4c874c1fbc06429a388cc51503/tensorflow_gpu-2.0.0rc0-cp37-cp37m-manylinux2010_x86_64.whl (380.5MB)\n",
            "\u001b[K     |████████████████████████████████| 380.5MB 41kB/s \n",
            "\u001b[?25hRequirement already satisfied: google-pasta>=0.1.6 in /usr/local/lib/python3.7/dist-packages (from tensorflow-gpu==2.0.0-rc0) (0.2.0)\n",
            "Requirement already satisfied: keras-preprocessing>=1.0.5 in /usr/local/lib/python3.7/dist-packages (from tensorflow-gpu==2.0.0-rc0) (1.1.2)\n",
            "Requirement already satisfied: six>=1.10.0 in /usr/local/lib/python3.7/dist-packages (from tensorflow-gpu==2.0.0-rc0) (1.15.0)\n",
            "Collecting tf-estimator-nightly<1.14.0.dev2019080602,>=1.14.0.dev2019080601\n",
            "\u001b[?25l  Downloading https://files.pythonhosted.org/packages/21/28/f2a27a62943d5f041e4a6fd404b2d21cb7c59b2242a4e73b03d9ba166552/tf_estimator_nightly-1.14.0.dev2019080601-py2.py3-none-any.whl (501kB)\n",
            "\u001b[K     |████████████████████████████████| 501kB 14.4MB/s \n",
            "\u001b[?25hRequirement already satisfied: protobuf>=3.6.1 in /usr/local/lib/python3.7/dist-packages (from tensorflow-gpu==2.0.0-rc0) (3.12.4)\n",
            "Collecting tb-nightly<1.15.0a20190807,>=1.15.0a20190806\n",
            "\u001b[?25l  Downloading https://files.pythonhosted.org/packages/bc/88/24b5fb7280e74c7cf65bde47c171547fd02afb3840cff41bcbe9270650f5/tb_nightly-1.15.0a20190806-py3-none-any.whl (4.3MB)\n",
            "\u001b[K     |████████████████████████████████| 4.3MB 32.7MB/s \n",
            "\u001b[?25hCollecting keras-applications>=1.0.8\n",
            "\u001b[?25l  Downloading https://files.pythonhosted.org/packages/71/e3/19762fdfc62877ae9102edf6342d71b28fbfd9dea3d2f96a882ce099b03f/Keras_Applications-1.0.8-py3-none-any.whl (50kB)\n",
            "\u001b[K     |████████████████████████████████| 51kB 4.3MB/s \n",
            "\u001b[?25hRequirement already satisfied: gast>=0.2.0 in /usr/local/lib/python3.7/dist-packages (from tensorflow-gpu==2.0.0-rc0) (0.3.3)\n",
            "Requirement already satisfied: wrapt>=1.11.1 in /usr/local/lib/python3.7/dist-packages (from tensorflow-gpu==2.0.0-rc0) (1.12.1)\n",
            "Requirement already satisfied: grpcio>=1.8.6 in /usr/local/lib/python3.7/dist-packages (from tensorflow-gpu==2.0.0-rc0) (1.32.0)\n",
            "Requirement already satisfied: astor>=0.6.0 in /usr/local/lib/python3.7/dist-packages (from tensorflow-gpu==2.0.0-rc0) (0.8.1)\n",
            "Requirement already satisfied: numpy<2.0,>=1.16.0 in /usr/local/lib/python3.7/dist-packages (from tensorflow-gpu==2.0.0-rc0) (1.19.5)\n",
            "Requirement already satisfied: opt-einsum>=2.3.2 in /usr/local/lib/python3.7/dist-packages (from tensorflow-gpu==2.0.0-rc0) (3.3.0)\n",
            "Requirement already satisfied: termcolor>=1.1.0 in /usr/local/lib/python3.7/dist-packages (from tensorflow-gpu==2.0.0-rc0) (1.1.0)\n",
            "Requirement already satisfied: absl-py>=0.7.0 in /usr/local/lib/python3.7/dist-packages (from tensorflow-gpu==2.0.0-rc0) (0.12.0)\n",
            "Requirement already satisfied: wheel>=0.26 in /usr/local/lib/python3.7/dist-packages (from tensorflow-gpu==2.0.0-rc0) (0.36.2)\n",
            "Requirement already satisfied: setuptools in /usr/local/lib/python3.7/dist-packages (from protobuf>=3.6.1->tensorflow-gpu==2.0.0-rc0) (54.2.0)\n",
            "Requirement already satisfied: werkzeug>=0.11.15 in /usr/local/lib/python3.7/dist-packages (from tb-nightly<1.15.0a20190807,>=1.15.0a20190806->tensorflow-gpu==2.0.0-rc0) (1.0.1)\n",
            "Requirement already satisfied: markdown>=2.6.8 in /usr/local/lib/python3.7/dist-packages (from tb-nightly<1.15.0a20190807,>=1.15.0a20190806->tensorflow-gpu==2.0.0-rc0) (3.3.4)\n",
            "Requirement already satisfied: h5py in /usr/local/lib/python3.7/dist-packages (from keras-applications>=1.0.8->tensorflow-gpu==2.0.0-rc0) (2.10.0)\n",
            "Requirement already satisfied: importlib-metadata; python_version < \"3.8\" in /usr/local/lib/python3.7/dist-packages (from markdown>=2.6.8->tb-nightly<1.15.0a20190807,>=1.15.0a20190806->tensorflow-gpu==2.0.0-rc0) (3.8.1)\n",
            "Requirement already satisfied: typing-extensions>=3.6.4; python_version < \"3.8\" in /usr/local/lib/python3.7/dist-packages (from importlib-metadata; python_version < \"3.8\"->markdown>=2.6.8->tb-nightly<1.15.0a20190807,>=1.15.0a20190806->tensorflow-gpu==2.0.0-rc0) (3.7.4.3)\n",
            "Requirement already satisfied: zipp>=0.5 in /usr/local/lib/python3.7/dist-packages (from importlib-metadata; python_version < \"3.8\"->markdown>=2.6.8->tb-nightly<1.15.0a20190807,>=1.15.0a20190806->tensorflow-gpu==2.0.0-rc0) (3.4.1)\n",
            "Installing collected packages: tf-estimator-nightly, tb-nightly, keras-applications, tensorflow-gpu\n",
            "Successfully installed keras-applications-1.0.8 tb-nightly-1.15.0a20190806 tensorflow-gpu-2.0.0rc0 tf-estimator-nightly-1.14.0.dev2019080601\n"
          ],
          "name": "stdout"
        }
      ]
    },
    {
      "cell_type": "code",
      "metadata": {
        "colab": {
          "base_uri": "https://localhost:8080/"
        },
        "id": "mb8H4Vdfim-K",
        "outputId": "284ea3ca-0f66-4e49-dc01-b946e59dc327"
      },
      "source": [
        "import tensorflow as tf\n",
        "from tensorflow import keras\n",
        "from tensorflow.keras import Sequential\n",
        "from tensorflow.keras.layers import Flatten, Dense, Dropout, BatchNormalization\n",
        "from tensorflow.keras.layers import Conv1D, MaxPool1D\n",
        "from tensorflow.keras.preprocessing.image import ImageDataGenerator\n",
        "\n",
        "from tensorflow.keras.optimizers import Adam\n",
        "\n",
        "print(tf.__version__)"
      ],
      "execution_count": null,
      "outputs": [
        {
          "output_type": "stream",
          "text": [
            "2.0.0-rc0\n"
          ],
          "name": "stdout"
        }
      ]
    },
    {
      "cell_type": "code",
      "metadata": {
        "id": "EzxKHid0j5fu"
      },
      "source": [
        "import pandas as pd\n",
        "import numpy as np\n",
        "import matplotlib.pyplot as plt\n",
        "import seaborn as sns"
      ],
      "execution_count": null,
      "outputs": []
    },
    {
      "cell_type": "code",
      "metadata": {
        "id": "DtweR5cpkGhd"
      },
      "source": [
        "from sklearn import datasets, metrics\n",
        "from sklearn.model_selection import train_test_split\n",
        "from sklearn.preprocessing import StandardScaler"
      ],
      "execution_count": null,
      "outputs": []
    },
    {
      "cell_type": "code",
      "metadata": {
        "id": "d_5EWVxTkYIC"
      },
      "source": [
        "cancer = datasets.load_breast_cancer()"
      ],
      "execution_count": null,
      "outputs": []
    },
    {
      "cell_type": "code",
      "metadata": {
        "colab": {
          "base_uri": "https://localhost:8080/"
        },
        "id": "x6aMcsulklOF",
        "outputId": "bcef13ba-4f6f-48c1-b3b4-a5d51528b091"
      },
      "source": [
        "print(cancer.DESCR)"
      ],
      "execution_count": null,
      "outputs": [
        {
          "output_type": "stream",
          "text": [
            ".. _breast_cancer_dataset:\n",
            "\n",
            "Breast cancer wisconsin (diagnostic) dataset\n",
            "--------------------------------------------\n",
            "\n",
            "**Data Set Characteristics:**\n",
            "\n",
            "    :Number of Instances: 569\n",
            "\n",
            "    :Number of Attributes: 30 numeric, predictive attributes and the class\n",
            "\n",
            "    :Attribute Information:\n",
            "        - radius (mean of distances from center to points on the perimeter)\n",
            "        - texture (standard deviation of gray-scale values)\n",
            "        - perimeter\n",
            "        - area\n",
            "        - smoothness (local variation in radius lengths)\n",
            "        - compactness (perimeter^2 / area - 1.0)\n",
            "        - concavity (severity of concave portions of the contour)\n",
            "        - concave points (number of concave portions of the contour)\n",
            "        - symmetry \n",
            "        - fractal dimension (\"coastline approximation\" - 1)\n",
            "\n",
            "        The mean, standard error, and \"worst\" or largest (mean of the three\n",
            "        largest values) of these features were computed for each image,\n",
            "        resulting in 30 features.  For instance, field 3 is Mean Radius, field\n",
            "        13 is Radius SE, field 23 is Worst Radius.\n",
            "\n",
            "        - class:\n",
            "                - WDBC-Malignant\n",
            "                - WDBC-Benign\n",
            "\n",
            "    :Summary Statistics:\n",
            "\n",
            "    ===================================== ====== ======\n",
            "                                           Min    Max\n",
            "    ===================================== ====== ======\n",
            "    radius (mean):                        6.981  28.11\n",
            "    texture (mean):                       9.71   39.28\n",
            "    perimeter (mean):                     43.79  188.5\n",
            "    area (mean):                          143.5  2501.0\n",
            "    smoothness (mean):                    0.053  0.163\n",
            "    compactness (mean):                   0.019  0.345\n",
            "    concavity (mean):                     0.0    0.427\n",
            "    concave points (mean):                0.0    0.201\n",
            "    symmetry (mean):                      0.106  0.304\n",
            "    fractal dimension (mean):             0.05   0.097\n",
            "    radius (standard error):              0.112  2.873\n",
            "    texture (standard error):             0.36   4.885\n",
            "    perimeter (standard error):           0.757  21.98\n",
            "    area (standard error):                6.802  542.2\n",
            "    smoothness (standard error):          0.002  0.031\n",
            "    compactness (standard error):         0.002  0.135\n",
            "    concavity (standard error):           0.0    0.396\n",
            "    concave points (standard error):      0.0    0.053\n",
            "    symmetry (standard error):            0.008  0.079\n",
            "    fractal dimension (standard error):   0.001  0.03\n",
            "    radius (worst):                       7.93   36.04\n",
            "    texture (worst):                      12.02  49.54\n",
            "    perimeter (worst):                    50.41  251.2\n",
            "    area (worst):                         185.2  4254.0\n",
            "    smoothness (worst):                   0.071  0.223\n",
            "    compactness (worst):                  0.027  1.058\n",
            "    concavity (worst):                    0.0    1.252\n",
            "    concave points (worst):               0.0    0.291\n",
            "    symmetry (worst):                     0.156  0.664\n",
            "    fractal dimension (worst):            0.055  0.208\n",
            "    ===================================== ====== ======\n",
            "\n",
            "    :Missing Attribute Values: None\n",
            "\n",
            "    :Class Distribution: 212 - Malignant, 357 - Benign\n",
            "\n",
            "    :Creator:  Dr. William H. Wolberg, W. Nick Street, Olvi L. Mangasarian\n",
            "\n",
            "    :Donor: Nick Street\n",
            "\n",
            "    :Date: November, 1995\n",
            "\n",
            "This is a copy of UCI ML Breast Cancer Wisconsin (Diagnostic) datasets.\n",
            "https://goo.gl/U2Uwz2\n",
            "\n",
            "Features are computed from a digitized image of a fine needle\n",
            "aspirate (FNA) of a breast mass.  They describe\n",
            "characteristics of the cell nuclei present in the image.\n",
            "\n",
            "Separating plane described above was obtained using\n",
            "Multisurface Method-Tree (MSM-T) [K. P. Bennett, \"Decision Tree\n",
            "Construction Via Linear Programming.\" Proceedings of the 4th\n",
            "Midwest Artificial Intelligence and Cognitive Science Society,\n",
            "pp. 97-101, 1992], a classification method which uses linear\n",
            "programming to construct a decision tree.  Relevant features\n",
            "were selected using an exhaustive search in the space of 1-4\n",
            "features and 1-3 separating planes.\n",
            "\n",
            "The actual linear program used to obtain the separating plane\n",
            "in the 3-dimensional space is that described in:\n",
            "[K. P. Bennett and O. L. Mangasarian: \"Robust Linear\n",
            "Programming Discrimination of Two Linearly Inseparable Sets\",\n",
            "Optimization Methods and Software 1, 1992, 23-34].\n",
            "\n",
            "This database is also available through the UW CS ftp server:\n",
            "\n",
            "ftp ftp.cs.wisc.edu\n",
            "cd math-prog/cpo-dataset/machine-learn/WDBC/\n",
            "\n",
            ".. topic:: References\n",
            "\n",
            "   - W.N. Street, W.H. Wolberg and O.L. Mangasarian. Nuclear feature extraction \n",
            "     for breast tumor diagnosis. IS&T/SPIE 1993 International Symposium on \n",
            "     Electronic Imaging: Science and Technology, volume 1905, pages 861-870,\n",
            "     San Jose, CA, 1993.\n",
            "   - O.L. Mangasarian, W.N. Street and W.H. Wolberg. Breast cancer diagnosis and \n",
            "     prognosis via linear programming. Operations Research, 43(4), pages 570-577, \n",
            "     July-August 1995.\n",
            "   - W.H. Wolberg, W.N. Street, and O.L. Mangasarian. Machine learning techniques\n",
            "     to diagnose breast cancer from fine-needle aspirates. Cancer Letters 77 (1994) \n",
            "     163-171.\n"
          ],
          "name": "stdout"
        }
      ]
    },
    {
      "cell_type": "code",
      "metadata": {
        "colab": {
          "base_uri": "https://localhost:8080/",
          "height": 258
        },
        "id": "wsT_amfpkoFb",
        "outputId": "674cdc5e-0ee7-4f7a-8db1-ef86a506fa22"
      },
      "source": [
        "X = pd.DataFrame(data=cancer.data, columns=cancer.feature_names)\n",
        "X.head()"
      ],
      "execution_count": null,
      "outputs": [
        {
          "output_type": "execute_result",
          "data": {
            "text/html": [
              "<div>\n",
              "<style scoped>\n",
              "    .dataframe tbody tr th:only-of-type {\n",
              "        vertical-align: middle;\n",
              "    }\n",
              "\n",
              "    .dataframe tbody tr th {\n",
              "        vertical-align: top;\n",
              "    }\n",
              "\n",
              "    .dataframe thead th {\n",
              "        text-align: right;\n",
              "    }\n",
              "</style>\n",
              "<table border=\"1\" class=\"dataframe\">\n",
              "  <thead>\n",
              "    <tr style=\"text-align: right;\">\n",
              "      <th></th>\n",
              "      <th>mean radius</th>\n",
              "      <th>mean texture</th>\n",
              "      <th>mean perimeter</th>\n",
              "      <th>mean area</th>\n",
              "      <th>mean smoothness</th>\n",
              "      <th>mean compactness</th>\n",
              "      <th>mean concavity</th>\n",
              "      <th>mean concave points</th>\n",
              "      <th>mean symmetry</th>\n",
              "      <th>mean fractal dimension</th>\n",
              "      <th>radius error</th>\n",
              "      <th>texture error</th>\n",
              "      <th>perimeter error</th>\n",
              "      <th>area error</th>\n",
              "      <th>smoothness error</th>\n",
              "      <th>compactness error</th>\n",
              "      <th>concavity error</th>\n",
              "      <th>concave points error</th>\n",
              "      <th>symmetry error</th>\n",
              "      <th>fractal dimension error</th>\n",
              "      <th>worst radius</th>\n",
              "      <th>worst texture</th>\n",
              "      <th>worst perimeter</th>\n",
              "      <th>worst area</th>\n",
              "      <th>worst smoothness</th>\n",
              "      <th>worst compactness</th>\n",
              "      <th>worst concavity</th>\n",
              "      <th>worst concave points</th>\n",
              "      <th>worst symmetry</th>\n",
              "      <th>worst fractal dimension</th>\n",
              "    </tr>\n",
              "  </thead>\n",
              "  <tbody>\n",
              "    <tr>\n",
              "      <th>0</th>\n",
              "      <td>17.99</td>\n",
              "      <td>10.38</td>\n",
              "      <td>122.80</td>\n",
              "      <td>1001.0</td>\n",
              "      <td>0.11840</td>\n",
              "      <td>0.27760</td>\n",
              "      <td>0.3001</td>\n",
              "      <td>0.14710</td>\n",
              "      <td>0.2419</td>\n",
              "      <td>0.07871</td>\n",
              "      <td>1.0950</td>\n",
              "      <td>0.9053</td>\n",
              "      <td>8.589</td>\n",
              "      <td>153.40</td>\n",
              "      <td>0.006399</td>\n",
              "      <td>0.04904</td>\n",
              "      <td>0.05373</td>\n",
              "      <td>0.01587</td>\n",
              "      <td>0.03003</td>\n",
              "      <td>0.006193</td>\n",
              "      <td>25.38</td>\n",
              "      <td>17.33</td>\n",
              "      <td>184.60</td>\n",
              "      <td>2019.0</td>\n",
              "      <td>0.1622</td>\n",
              "      <td>0.6656</td>\n",
              "      <td>0.7119</td>\n",
              "      <td>0.2654</td>\n",
              "      <td>0.4601</td>\n",
              "      <td>0.11890</td>\n",
              "    </tr>\n",
              "    <tr>\n",
              "      <th>1</th>\n",
              "      <td>20.57</td>\n",
              "      <td>17.77</td>\n",
              "      <td>132.90</td>\n",
              "      <td>1326.0</td>\n",
              "      <td>0.08474</td>\n",
              "      <td>0.07864</td>\n",
              "      <td>0.0869</td>\n",
              "      <td>0.07017</td>\n",
              "      <td>0.1812</td>\n",
              "      <td>0.05667</td>\n",
              "      <td>0.5435</td>\n",
              "      <td>0.7339</td>\n",
              "      <td>3.398</td>\n",
              "      <td>74.08</td>\n",
              "      <td>0.005225</td>\n",
              "      <td>0.01308</td>\n",
              "      <td>0.01860</td>\n",
              "      <td>0.01340</td>\n",
              "      <td>0.01389</td>\n",
              "      <td>0.003532</td>\n",
              "      <td>24.99</td>\n",
              "      <td>23.41</td>\n",
              "      <td>158.80</td>\n",
              "      <td>1956.0</td>\n",
              "      <td>0.1238</td>\n",
              "      <td>0.1866</td>\n",
              "      <td>0.2416</td>\n",
              "      <td>0.1860</td>\n",
              "      <td>0.2750</td>\n",
              "      <td>0.08902</td>\n",
              "    </tr>\n",
              "    <tr>\n",
              "      <th>2</th>\n",
              "      <td>19.69</td>\n",
              "      <td>21.25</td>\n",
              "      <td>130.00</td>\n",
              "      <td>1203.0</td>\n",
              "      <td>0.10960</td>\n",
              "      <td>0.15990</td>\n",
              "      <td>0.1974</td>\n",
              "      <td>0.12790</td>\n",
              "      <td>0.2069</td>\n",
              "      <td>0.05999</td>\n",
              "      <td>0.7456</td>\n",
              "      <td>0.7869</td>\n",
              "      <td>4.585</td>\n",
              "      <td>94.03</td>\n",
              "      <td>0.006150</td>\n",
              "      <td>0.04006</td>\n",
              "      <td>0.03832</td>\n",
              "      <td>0.02058</td>\n",
              "      <td>0.02250</td>\n",
              "      <td>0.004571</td>\n",
              "      <td>23.57</td>\n",
              "      <td>25.53</td>\n",
              "      <td>152.50</td>\n",
              "      <td>1709.0</td>\n",
              "      <td>0.1444</td>\n",
              "      <td>0.4245</td>\n",
              "      <td>0.4504</td>\n",
              "      <td>0.2430</td>\n",
              "      <td>0.3613</td>\n",
              "      <td>0.08758</td>\n",
              "    </tr>\n",
              "    <tr>\n",
              "      <th>3</th>\n",
              "      <td>11.42</td>\n",
              "      <td>20.38</td>\n",
              "      <td>77.58</td>\n",
              "      <td>386.1</td>\n",
              "      <td>0.14250</td>\n",
              "      <td>0.28390</td>\n",
              "      <td>0.2414</td>\n",
              "      <td>0.10520</td>\n",
              "      <td>0.2597</td>\n",
              "      <td>0.09744</td>\n",
              "      <td>0.4956</td>\n",
              "      <td>1.1560</td>\n",
              "      <td>3.445</td>\n",
              "      <td>27.23</td>\n",
              "      <td>0.009110</td>\n",
              "      <td>0.07458</td>\n",
              "      <td>0.05661</td>\n",
              "      <td>0.01867</td>\n",
              "      <td>0.05963</td>\n",
              "      <td>0.009208</td>\n",
              "      <td>14.91</td>\n",
              "      <td>26.50</td>\n",
              "      <td>98.87</td>\n",
              "      <td>567.7</td>\n",
              "      <td>0.2098</td>\n",
              "      <td>0.8663</td>\n",
              "      <td>0.6869</td>\n",
              "      <td>0.2575</td>\n",
              "      <td>0.6638</td>\n",
              "      <td>0.17300</td>\n",
              "    </tr>\n",
              "    <tr>\n",
              "      <th>4</th>\n",
              "      <td>20.29</td>\n",
              "      <td>14.34</td>\n",
              "      <td>135.10</td>\n",
              "      <td>1297.0</td>\n",
              "      <td>0.10030</td>\n",
              "      <td>0.13280</td>\n",
              "      <td>0.1980</td>\n",
              "      <td>0.10430</td>\n",
              "      <td>0.1809</td>\n",
              "      <td>0.05883</td>\n",
              "      <td>0.7572</td>\n",
              "      <td>0.7813</td>\n",
              "      <td>5.438</td>\n",
              "      <td>94.44</td>\n",
              "      <td>0.011490</td>\n",
              "      <td>0.02461</td>\n",
              "      <td>0.05688</td>\n",
              "      <td>0.01885</td>\n",
              "      <td>0.01756</td>\n",
              "      <td>0.005115</td>\n",
              "      <td>22.54</td>\n",
              "      <td>16.67</td>\n",
              "      <td>152.20</td>\n",
              "      <td>1575.0</td>\n",
              "      <td>0.1374</td>\n",
              "      <td>0.2050</td>\n",
              "      <td>0.4000</td>\n",
              "      <td>0.1625</td>\n",
              "      <td>0.2364</td>\n",
              "      <td>0.07678</td>\n",
              "    </tr>\n",
              "  </tbody>\n",
              "</table>\n",
              "</div>"
            ],
            "text/plain": [
              "   mean radius  mean texture  ...  worst symmetry  worst fractal dimension\n",
              "0        17.99         10.38  ...          0.4601                  0.11890\n",
              "1        20.57         17.77  ...          0.2750                  0.08902\n",
              "2        19.69         21.25  ...          0.3613                  0.08758\n",
              "3        11.42         20.38  ...          0.6638                  0.17300\n",
              "4        20.29         14.34  ...          0.2364                  0.07678\n",
              "\n",
              "[5 rows x 30 columns]"
            ]
          },
          "metadata": {
            "tags": []
          },
          "execution_count": 7
        }
      ]
    },
    {
      "cell_type": "code",
      "metadata": {
        "id": "VNSNqUOGl0i-"
      },
      "source": [
        "y = cancer.target"
      ],
      "execution_count": null,
      "outputs": []
    },
    {
      "cell_type": "code",
      "metadata": {
        "colab": {
          "base_uri": "https://localhost:8080/"
        },
        "id": "prUdZA4tmbhV",
        "outputId": "374f2f18-76a8-4142-b71c-b551cdffe394"
      },
      "source": [
        "cancer.target_names"
      ],
      "execution_count": null,
      "outputs": [
        {
          "output_type": "execute_result",
          "data": {
            "text/plain": [
              "array(['malignant', 'benign'], dtype='<U9')"
            ]
          },
          "metadata": {
            "tags": []
          },
          "execution_count": 9
        }
      ]
    },
    {
      "cell_type": "code",
      "metadata": {
        "colab": {
          "base_uri": "https://localhost:8080/"
        },
        "id": "PJ9JyqEgmqmT",
        "outputId": "6683928c-4891-4259-8c2a-c797dfffa940"
      },
      "source": [
        "X.shape"
      ],
      "execution_count": null,
      "outputs": [
        {
          "output_type": "execute_result",
          "data": {
            "text/plain": [
              "(569, 30)"
            ]
          },
          "metadata": {
            "tags": []
          },
          "execution_count": 10
        }
      ]
    },
    {
      "cell_type": "code",
      "metadata": {
        "id": "yj5kdaBlm0Qi"
      },
      "source": [
        "X_train, X_test, y_train, y_test = train_test_split(X, y, test_size=0.2, random_state=42, stratify=y)"
      ],
      "execution_count": null,
      "outputs": []
    },
    {
      "cell_type": "code",
      "metadata": {
        "colab": {
          "base_uri": "https://localhost:8080/"
        },
        "id": "8oDBJs9cnHZE",
        "outputId": "39842cfb-d27b-4546-939b-5a4b480e1d7b"
      },
      "source": [
        "X_train.shape"
      ],
      "execution_count": null,
      "outputs": [
        {
          "output_type": "execute_result",
          "data": {
            "text/plain": [
              "(455, 30)"
            ]
          },
          "metadata": {
            "tags": []
          },
          "execution_count": 12
        }
      ]
    },
    {
      "cell_type": "code",
      "metadata": {
        "colab": {
          "base_uri": "https://localhost:8080/"
        },
        "id": "Np_TVv6WnPR2",
        "outputId": "0209cdc0-a509-4c47-a671-ba46baac6386"
      },
      "source": [
        "X_test.shape"
      ],
      "execution_count": null,
      "outputs": [
        {
          "output_type": "execute_result",
          "data": {
            "text/plain": [
              "(114, 30)"
            ]
          },
          "metadata": {
            "tags": []
          },
          "execution_count": 13
        }
      ]
    },
    {
      "cell_type": "code",
      "metadata": {
        "id": "uK-4LQ67nTe5"
      },
      "source": [
        "scaler = StandardScaler()\n",
        "X_train = scaler.fit_transform(X_train)\n",
        "X_test = scaler.transform(X_test)"
      ],
      "execution_count": null,
      "outputs": []
    },
    {
      "cell_type": "code",
      "metadata": {
        "id": "b23p0_PQoMoG"
      },
      "source": [
        "X_train = X_train.reshape(455,30,1)\n",
        "X_test = X_test.reshape(114,30,1)"
      ],
      "execution_count": null,
      "outputs": []
    },
    {
      "cell_type": "code",
      "metadata": {
        "id": "1YOlDnm4osrO"
      },
      "source": [
        "epochs = 50\n",
        "model = Sequential()\n",
        "model.add(Conv1D(filters=32, kernel_size=2, activation='relu', input_shape=(30,1)))\n",
        "model.add(BatchNormalization())\n",
        "model.add(Dropout(0.2))\n",
        "\n",
        "model.add(Conv1D(filters=64, kernel_size=2, activation='relu'))\n",
        "model.add(BatchNormalization())\n",
        "model.add(Dropout(0.5))\n",
        "\n",
        "model.add(Flatten())\n",
        "model.add(Dense(64, activation='relu'))\n",
        "model.add(Dropout(0.5))\n",
        "\n",
        "model.add(Dense(1, activation='sigmoid'))\n"
      ],
      "execution_count": null,
      "outputs": []
    },
    {
      "cell_type": "code",
      "metadata": {
        "id": "9x965YzSwpyR"
      },
      "source": [
        ""
      ],
      "execution_count": null,
      "outputs": []
    },
    {
      "cell_type": "code",
      "metadata": {
        "colab": {
          "base_uri": "https://localhost:8080/"
        },
        "id": "Z9auDs3Tws2Z",
        "outputId": "3c579f44-164b-483b-9ac4-1de5327501c7"
      },
      "source": [
        "model.summary()"
      ],
      "execution_count": null,
      "outputs": [
        {
          "output_type": "stream",
          "text": [
            "Model: \"sequential\"\n",
            "_________________________________________________________________\n",
            "Layer (type)                 Output Shape              Param #   \n",
            "=================================================================\n",
            "conv1d (Conv1D)              (None, 29, 32)            96        \n",
            "_________________________________________________________________\n",
            "batch_normalization (BatchNo (None, 29, 32)            128       \n",
            "_________________________________________________________________\n",
            "dropout (Dropout)            (None, 29, 32)            0         \n",
            "_________________________________________________________________\n",
            "conv1d_1 (Conv1D)            (None, 28, 64)            4160      \n",
            "_________________________________________________________________\n",
            "batch_normalization_1 (Batch (None, 28, 64)            256       \n",
            "_________________________________________________________________\n",
            "dropout_1 (Dropout)          (None, 28, 64)            0         \n",
            "_________________________________________________________________\n",
            "flatten (Flatten)            (None, 1792)              0         \n",
            "_________________________________________________________________\n",
            "dense (Dense)                (None, 64)                114752    \n",
            "_________________________________________________________________\n",
            "dropout_2 (Dropout)          (None, 64)                0         \n",
            "_________________________________________________________________\n",
            "dense_1 (Dense)              (None, 1)                 65        \n",
            "=================================================================\n",
            "Total params: 119,457\n",
            "Trainable params: 119,265\n",
            "Non-trainable params: 192\n",
            "_________________________________________________________________\n"
          ],
          "name": "stdout"
        }
      ]
    },
    {
      "cell_type": "code",
      "metadata": {
        "id": "dxcjn2z2w67D"
      },
      "source": [
        "model.compile(optimizer=Adam(lr=0.00005), loss='binary_crossentropy', metrics=['accuracy'])"
      ],
      "execution_count": null,
      "outputs": []
    },
    {
      "cell_type": "code",
      "metadata": {
        "colab": {
          "base_uri": "https://localhost:8080/"
        },
        "id": "FW6ybB7E1LaA",
        "outputId": "e19fb40f-0d90-4309-8593-aea3ed25d3d8"
      },
      "source": [
        "history = model.fit(X_train, y_train, epochs=epochs, validation_data=(X_test, y_test), verbose=1)\n"
      ],
      "execution_count": null,
      "outputs": [
        {
          "output_type": "stream",
          "text": [
            "Train on 455 samples, validate on 114 samples\n",
            "Epoch 1/50\n",
            "WARNING:tensorflow:From /usr/local/lib/python3.7/dist-packages/tensorflow_core/python/ops/nn_impl.py:183: where (from tensorflow.python.ops.array_ops) is deprecated and will be removed in a future version.\n",
            "Instructions for updating:\n",
            "Use tf.where in 2.0, which has the same broadcast rule as np.where\n",
            "WARNING:tensorflow:Entity <function Function._initialize_uninitialized_variables.<locals>.initialize_variables at 0x7f92caa65710> could not be transformed and will be executed as-is. Please report this to the AutoGraph team. When filing the bug, set the verbosity to 10 (on Linux, `export AUTOGRAPH_VERBOSITY=10`) and attach the full output. Cause: module 'gast' has no attribute 'Num'\n",
            "WARNING: Entity <function Function._initialize_uninitialized_variables.<locals>.initialize_variables at 0x7f92caa65710> could not be transformed and will be executed as-is. Please report this to the AutoGraph team. When filing the bug, set the verbosity to 10 (on Linux, `export AUTOGRAPH_VERBOSITY=10`) and attach the full output. Cause: module 'gast' has no attribute 'Num'\n",
            "455/455 [==============================] - 2s 4ms/sample - loss: 0.7792 - accuracy: 0.6484 - val_loss: 0.6416 - val_accuracy: 0.8947\n",
            "Epoch 2/50\n",
            "455/455 [==============================] - 0s 427us/sample - loss: 0.6050 - accuracy: 0.7341 - val_loss: 0.6124 - val_accuracy: 0.9298\n",
            "Epoch 3/50\n",
            "455/455 [==============================] - 0s 504us/sample - loss: 0.4785 - accuracy: 0.8132 - val_loss: 0.5811 - val_accuracy: 0.9561\n",
            "Epoch 4/50\n",
            "455/455 [==============================] - 0s 446us/sample - loss: 0.3951 - accuracy: 0.8462 - val_loss: 0.5487 - val_accuracy: 0.9561\n",
            "Epoch 5/50\n",
            "455/455 [==============================] - 0s 447us/sample - loss: 0.3689 - accuracy: 0.8462 - val_loss: 0.5159 - val_accuracy: 0.9561\n",
            "Epoch 6/50\n",
            "455/455 [==============================] - 0s 519us/sample - loss: 0.3081 - accuracy: 0.8747 - val_loss: 0.4828 - val_accuracy: 0.9474\n",
            "Epoch 7/50\n",
            "455/455 [==============================] - 0s 458us/sample - loss: 0.2795 - accuracy: 0.8857 - val_loss: 0.4494 - val_accuracy: 0.9561\n",
            "Epoch 8/50\n",
            "455/455 [==============================] - 0s 458us/sample - loss: 0.2642 - accuracy: 0.8835 - val_loss: 0.4163 - val_accuracy: 0.9561\n",
            "Epoch 9/50\n",
            "455/455 [==============================] - 0s 496us/sample - loss: 0.2613 - accuracy: 0.8835 - val_loss: 0.3830 - val_accuracy: 0.9561\n",
            "Epoch 10/50\n",
            "455/455 [==============================] - 0s 434us/sample - loss: 0.2409 - accuracy: 0.8989 - val_loss: 0.3534 - val_accuracy: 0.9561\n",
            "Epoch 11/50\n",
            "455/455 [==============================] - 0s 516us/sample - loss: 0.2275 - accuracy: 0.8989 - val_loss: 0.3205 - val_accuracy: 0.9561\n",
            "Epoch 12/50\n",
            "455/455 [==============================] - 0s 443us/sample - loss: 0.2225 - accuracy: 0.9209 - val_loss: 0.2912 - val_accuracy: 0.9561\n",
            "Epoch 13/50\n",
            "455/455 [==============================] - 0s 459us/sample - loss: 0.2049 - accuracy: 0.9275 - val_loss: 0.2648 - val_accuracy: 0.9561\n",
            "Epoch 14/50\n",
            "455/455 [==============================] - 0s 486us/sample - loss: 0.2144 - accuracy: 0.9253 - val_loss: 0.2407 - val_accuracy: 0.9561\n",
            "Epoch 15/50\n",
            "455/455 [==============================] - 0s 442us/sample - loss: 0.1918 - accuracy: 0.9275 - val_loss: 0.2194 - val_accuracy: 0.9649\n",
            "Epoch 16/50\n",
            "455/455 [==============================] - 0s 435us/sample - loss: 0.1791 - accuracy: 0.9253 - val_loss: 0.1998 - val_accuracy: 0.9649\n",
            "Epoch 17/50\n",
            "455/455 [==============================] - 0s 441us/sample - loss: 0.2110 - accuracy: 0.9231 - val_loss: 0.1832 - val_accuracy: 0.9649\n",
            "Epoch 18/50\n",
            "455/455 [==============================] - 0s 461us/sample - loss: 0.1785 - accuracy: 0.9407 - val_loss: 0.1702 - val_accuracy: 0.9649\n",
            "Epoch 19/50\n",
            "455/455 [==============================] - 0s 474us/sample - loss: 0.2207 - accuracy: 0.9121 - val_loss: 0.1567 - val_accuracy: 0.9649\n",
            "Epoch 20/50\n",
            "455/455 [==============================] - 0s 496us/sample - loss: 0.1767 - accuracy: 0.9297 - val_loss: 0.1461 - val_accuracy: 0.9737\n",
            "Epoch 21/50\n",
            "455/455 [==============================] - 0s 480us/sample - loss: 0.1679 - accuracy: 0.9473 - val_loss: 0.1365 - val_accuracy: 0.9737\n",
            "Epoch 22/50\n",
            "455/455 [==============================] - 0s 463us/sample - loss: 0.1360 - accuracy: 0.9451 - val_loss: 0.1283 - val_accuracy: 0.9649\n",
            "Epoch 23/50\n",
            "455/455 [==============================] - 0s 486us/sample - loss: 0.1607 - accuracy: 0.9341 - val_loss: 0.1206 - val_accuracy: 0.9649\n",
            "Epoch 24/50\n",
            "455/455 [==============================] - 0s 456us/sample - loss: 0.1770 - accuracy: 0.9319 - val_loss: 0.1135 - val_accuracy: 0.9649\n",
            "Epoch 25/50\n",
            "455/455 [==============================] - 0s 438us/sample - loss: 0.1530 - accuracy: 0.9473 - val_loss: 0.1087 - val_accuracy: 0.9649\n",
            "Epoch 26/50\n",
            "455/455 [==============================] - 0s 510us/sample - loss: 0.1335 - accuracy: 0.9473 - val_loss: 0.1039 - val_accuracy: 0.9649\n",
            "Epoch 27/50\n",
            "455/455 [==============================] - 0s 449us/sample - loss: 0.1216 - accuracy: 0.9582 - val_loss: 0.0998 - val_accuracy: 0.9649\n",
            "Epoch 28/50\n",
            "455/455 [==============================] - 0s 498us/sample - loss: 0.1268 - accuracy: 0.9582 - val_loss: 0.0973 - val_accuracy: 0.9561\n",
            "Epoch 29/50\n",
            "455/455 [==============================] - 0s 462us/sample - loss: 0.1405 - accuracy: 0.9516 - val_loss: 0.0945 - val_accuracy: 0.9561\n",
            "Epoch 30/50\n",
            "455/455 [==============================] - 0s 457us/sample - loss: 0.1201 - accuracy: 0.9560 - val_loss: 0.0928 - val_accuracy: 0.9561\n",
            "Epoch 31/50\n",
            "455/455 [==============================] - 0s 445us/sample - loss: 0.1500 - accuracy: 0.9341 - val_loss: 0.0919 - val_accuracy: 0.9561\n",
            "Epoch 32/50\n",
            "455/455 [==============================] - 0s 409us/sample - loss: 0.1378 - accuracy: 0.9473 - val_loss: 0.0913 - val_accuracy: 0.9561\n",
            "Epoch 33/50\n",
            "455/455 [==============================] - 0s 409us/sample - loss: 0.1172 - accuracy: 0.9538 - val_loss: 0.0901 - val_accuracy: 0.9561\n",
            "Epoch 34/50\n",
            "455/455 [==============================] - 0s 406us/sample - loss: 0.1186 - accuracy: 0.9648 - val_loss: 0.0893 - val_accuracy: 0.9561\n",
            "Epoch 35/50\n",
            "455/455 [==============================] - 0s 454us/sample - loss: 0.1093 - accuracy: 0.9692 - val_loss: 0.0891 - val_accuracy: 0.9561\n",
            "Epoch 36/50\n",
            "455/455 [==============================] - 0s 471us/sample - loss: 0.1167 - accuracy: 0.9429 - val_loss: 0.0891 - val_accuracy: 0.9561\n",
            "Epoch 37/50\n",
            "455/455 [==============================] - 0s 448us/sample - loss: 0.1529 - accuracy: 0.9516 - val_loss: 0.0901 - val_accuracy: 0.9561\n",
            "Epoch 38/50\n",
            "455/455 [==============================] - 0s 444us/sample - loss: 0.1254 - accuracy: 0.9516 - val_loss: 0.0906 - val_accuracy: 0.9474\n",
            "Epoch 39/50\n",
            "455/455 [==============================] - 0s 453us/sample - loss: 0.1018 - accuracy: 0.9604 - val_loss: 0.0914 - val_accuracy: 0.9474\n",
            "Epoch 40/50\n",
            "455/455 [==============================] - 0s 500us/sample - loss: 0.0967 - accuracy: 0.9670 - val_loss: 0.0926 - val_accuracy: 0.9474\n",
            "Epoch 41/50\n",
            "455/455 [==============================] - 0s 430us/sample - loss: 0.1222 - accuracy: 0.9538 - val_loss: 0.0940 - val_accuracy: 0.9386\n",
            "Epoch 42/50\n",
            "455/455 [==============================] - 0s 412us/sample - loss: 0.0964 - accuracy: 0.9670 - val_loss: 0.0939 - val_accuracy: 0.9386\n",
            "Epoch 43/50\n",
            "455/455 [==============================] - 0s 428us/sample - loss: 0.1219 - accuracy: 0.9516 - val_loss: 0.0940 - val_accuracy: 0.9386\n",
            "Epoch 44/50\n",
            "455/455 [==============================] - 0s 407us/sample - loss: 0.1411 - accuracy: 0.9495 - val_loss: 0.0952 - val_accuracy: 0.9386\n",
            "Epoch 45/50\n",
            "455/455 [==============================] - 0s 414us/sample - loss: 0.0893 - accuracy: 0.9714 - val_loss: 0.0951 - val_accuracy: 0.9386\n",
            "Epoch 46/50\n",
            "455/455 [==============================] - 0s 424us/sample - loss: 0.1143 - accuracy: 0.9582 - val_loss: 0.0954 - val_accuracy: 0.9386\n",
            "Epoch 47/50\n",
            "455/455 [==============================] - 0s 436us/sample - loss: 0.0778 - accuracy: 0.9758 - val_loss: 0.0957 - val_accuracy: 0.9386\n",
            "Epoch 48/50\n",
            "455/455 [==============================] - 0s 410us/sample - loss: 0.0865 - accuracy: 0.9626 - val_loss: 0.0962 - val_accuracy: 0.9386\n",
            "Epoch 49/50\n",
            "455/455 [==============================] - 0s 400us/sample - loss: 0.1292 - accuracy: 0.9560 - val_loss: 0.0965 - val_accuracy: 0.9386\n",
            "Epoch 50/50\n",
            "455/455 [==============================] - 0s 419us/sample - loss: 0.1061 - accuracy: 0.9648 - val_loss: 0.0987 - val_accuracy: 0.9386\n"
          ],
          "name": "stdout"
        }
      ]
    },
    {
      "cell_type": "code",
      "metadata": {
        "id": "oV6lC3CW1mtV"
      },
      "source": [
        "\n",
        "def plot_learningCurve(history, epoch):\n",
        "  # Plot training & validation accuracy values\n",
        "  epoch_range = range(1, epoch+1)\n",
        "  plt.plot(epoch_range, history.history['accuracy'])\n",
        "  plt.plot(epoch_range, history.history['val_accuracy'])\n",
        "  plt.title('Model accuracy')\n",
        "  plt.ylabel('Accuracy')\n",
        "  plt.xlabel('Epoch')\n",
        "  plt.legend(['Train', 'Val'], loc='upper left')\n",
        "  plt.show()\n",
        "\n",
        "  # Plot training & validation loss values\n",
        "  plt.plot(epoch_range, history.history['loss'])\n",
        "  plt.plot(epoch_range, history.history['val_loss'])\n",
        "  plt.title('Model loss')\n",
        "  plt.ylabel('Loss')\n",
        "  plt.xlabel('Epoch')\n",
        "  plt.legend(['Train', 'Val'], loc='upper left')\n",
        "  plt.show()"
      ],
      "execution_count": null,
      "outputs": []
    },
    {
      "cell_type": "code",
      "metadata": {
        "colab": {
          "base_uri": "https://localhost:8080/"
        },
        "id": "IcGIMgZG3La6",
        "outputId": "e0515429-c97d-4d64-fa5a-aa084ab9e11e"
      },
      "source": [
        "history.history\n"
      ],
      "execution_count": null,
      "outputs": [
        {
          "output_type": "execute_result",
          "data": {
            "text/plain": [
              "{'accuracy': [0.64835167,\n",
              "  0.73406595,\n",
              "  0.8131868,\n",
              "  0.84615386,\n",
              "  0.84615386,\n",
              "  0.8747253,\n",
              "  0.8857143,\n",
              "  0.8835165,\n",
              "  0.8835165,\n",
              "  0.8989011,\n",
              "  0.8989011,\n",
              "  0.9208791,\n",
              "  0.92747253,\n",
              "  0.9252747,\n",
              "  0.92747253,\n",
              "  0.9252747,\n",
              "  0.9230769,\n",
              "  0.94065934,\n",
              "  0.9120879,\n",
              "  0.92967033,\n",
              "  0.94725275,\n",
              "  0.94505495,\n",
              "  0.93406594,\n",
              "  0.93186814,\n",
              "  0.94725275,\n",
              "  0.94725275,\n",
              "  0.95824176,\n",
              "  0.95824176,\n",
              "  0.95164835,\n",
              "  0.95604396,\n",
              "  0.93406594,\n",
              "  0.94725275,\n",
              "  0.95384616,\n",
              "  0.96483517,\n",
              "  0.9692308,\n",
              "  0.94285715,\n",
              "  0.95164835,\n",
              "  0.95164835,\n",
              "  0.96043956,\n",
              "  0.96703297,\n",
              "  0.95384616,\n",
              "  0.96703297,\n",
              "  0.95164835,\n",
              "  0.94945055,\n",
              "  0.9714286,\n",
              "  0.95824176,\n",
              "  0.9758242,\n",
              "  0.96263736,\n",
              "  0.95604396,\n",
              "  0.96483517],\n",
              " 'loss': [0.7791504959483723,\n",
              "  0.6050110589016925,\n",
              "  0.4785200041729015,\n",
              "  0.3951470647866909,\n",
              "  0.3688760809518479,\n",
              "  0.308130817098932,\n",
              "  0.2794636604550121,\n",
              "  0.26415823318146087,\n",
              "  0.2613479234278202,\n",
              "  0.2409384434039776,\n",
              "  0.22748838184954046,\n",
              "  0.22250307784466952,\n",
              "  0.2048635391334256,\n",
              "  0.21439674108770196,\n",
              "  0.19182157857077461,\n",
              "  0.17906122011142772,\n",
              "  0.21095784365475834,\n",
              "  0.17854978204755992,\n",
              "  0.22071993685030675,\n",
              "  0.1767100337114963,\n",
              "  0.16788347337272141,\n",
              "  0.13595084841107274,\n",
              "  0.16074526932213332,\n",
              "  0.17698621789177696,\n",
              "  0.1529663806433206,\n",
              "  0.13349081104068639,\n",
              "  0.12156124094623949,\n",
              "  0.12675250821061188,\n",
              "  0.14047482450912288,\n",
              "  0.12008502182479087,\n",
              "  0.1499570656608749,\n",
              "  0.13782582549419214,\n",
              "  0.11716478329438429,\n",
              "  0.11862333618350081,\n",
              "  0.10925939438434748,\n",
              "  0.1166848049059019,\n",
              "  0.1529293316406208,\n",
              "  0.12544987037532276,\n",
              "  0.10182665891044743,\n",
              "  0.09666678111195554,\n",
              "  0.12216703814792108,\n",
              "  0.09635372427138654,\n",
              "  0.12190783594090204,\n",
              "  0.14105817655940633,\n",
              "  0.08929433758769717,\n",
              "  0.1142757950248299,\n",
              "  0.07777365622530272,\n",
              "  0.08646222387164176,\n",
              "  0.12923415848514536,\n",
              "  0.1061036107959328],\n",
              " 'val_accuracy': [0.8947368,\n",
              "  0.9298246,\n",
              "  0.95614034,\n",
              "  0.95614034,\n",
              "  0.95614034,\n",
              "  0.94736844,\n",
              "  0.95614034,\n",
              "  0.95614034,\n",
              "  0.95614034,\n",
              "  0.95614034,\n",
              "  0.95614034,\n",
              "  0.95614034,\n",
              "  0.95614034,\n",
              "  0.95614034,\n",
              "  0.9649123,\n",
              "  0.9649123,\n",
              "  0.9649123,\n",
              "  0.9649123,\n",
              "  0.9649123,\n",
              "  0.9736842,\n",
              "  0.9736842,\n",
              "  0.9649123,\n",
              "  0.9649123,\n",
              "  0.9649123,\n",
              "  0.9649123,\n",
              "  0.9649123,\n",
              "  0.9649123,\n",
              "  0.95614034,\n",
              "  0.95614034,\n",
              "  0.95614034,\n",
              "  0.95614034,\n",
              "  0.95614034,\n",
              "  0.95614034,\n",
              "  0.95614034,\n",
              "  0.95614034,\n",
              "  0.95614034,\n",
              "  0.95614034,\n",
              "  0.94736844,\n",
              "  0.94736844,\n",
              "  0.94736844,\n",
              "  0.9385965,\n",
              "  0.9385965,\n",
              "  0.9385965,\n",
              "  0.9385965,\n",
              "  0.9385965,\n",
              "  0.9385965,\n",
              "  0.9385965,\n",
              "  0.9385965,\n",
              "  0.9385965,\n",
              "  0.9385965],\n",
              " 'val_loss': [0.6415652486315945,\n",
              "  0.6123547731784352,\n",
              "  0.5811023074283934,\n",
              "  0.5487031256943419,\n",
              "  0.5158833777695372,\n",
              "  0.4828131983154698,\n",
              "  0.4494466206483674,\n",
              "  0.4163053793865338,\n",
              "  0.3830428259414539,\n",
              "  0.35335563515361984,\n",
              "  0.3205342962030779,\n",
              "  0.2912236509615915,\n",
              "  0.264801673460425,\n",
              "  0.2407094480698569,\n",
              "  0.21940351891935916,\n",
              "  0.19975255403602332,\n",
              "  0.18319712343968844,\n",
              "  0.17015289763609567,\n",
              "  0.1566744704256978,\n",
              "  0.14613666672978484,\n",
              "  0.13650486435283693,\n",
              "  0.12830193353849545,\n",
              "  0.1205945396632479,\n",
              "  0.11347924107522295,\n",
              "  0.10873823527965629,\n",
              "  0.1039145192164078,\n",
              "  0.09978987603333958,\n",
              "  0.09733126573918159,\n",
              "  0.09449699344603639,\n",
              "  0.09283249648778062,\n",
              "  0.09188650398139368,\n",
              "  0.09126310096236698,\n",
              "  0.09012097329424139,\n",
              "  0.08934618434623669,\n",
              "  0.08906746060963262,\n",
              "  0.0891130868541567,\n",
              "  0.0900825459444732,\n",
              "  0.09064016399676339,\n",
              "  0.0913645051289023,\n",
              "  0.09263586050324273,\n",
              "  0.09396484023646305,\n",
              "  0.0938877290800998,\n",
              "  0.09403909344160766,\n",
              "  0.09520191797300388,\n",
              "  0.0950772626358166,\n",
              "  0.09542364836261984,\n",
              "  0.09566597444446463,\n",
              "  0.09619349571304363,\n",
              "  0.09650277960718724,\n",
              "  0.09865232795607626]}"
            ]
          },
          "metadata": {
            "tags": []
          },
          "execution_count": 21
        }
      ]
    },
    {
      "cell_type": "code",
      "metadata": {
        "id": "zptzOkMA3PtA",
        "colab": {
          "base_uri": "https://localhost:8080/",
          "height": 573
        },
        "outputId": "5179a363-6c7f-43b0-f19a-ef3f060fbd37"
      },
      "source": [
        "plot_learningCurve(history, epochs)"
      ],
      "execution_count": null,
      "outputs": [
        {
          "output_type": "display_data",
          "data": {
            "image/png": "[encoded data removed]",
            "text/plain": [
              "<Figure size 432x288 with 1 Axes>"
            ]
          },
          "metadata": {
            "tags": [],
            "needs_background": "light"
          }
        },
        {
          "output_type": "display_data",
          "data": {
            "image/png": "[encoded data removed]",
            "text/plain": [
              "<Figure size 432x288 with 1 Axes>"
            ]
          },
          "metadata": {
            "tags": [],
            "needs_background": "light"
          }
        }
      ]
    },
    {
      "cell_type": "code",
      "metadata": {
        "id": "MFlgRB0LY7wa"
      },
      "source": [
        ""
      ],
      "execution_count": null,
      "outputs": []
    }
  ]
}
